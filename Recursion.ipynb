{
 "cells": [
  {
   "cell_type": "markdown",
   "id": "daec7bb6",
   "metadata": {},
   "source": [
    "# Reverse a string"
   ]
  },
  {
   "cell_type": "code",
   "execution_count": 4,
   "id": "4343d31d",
   "metadata": {},
   "outputs": [
    {
     "name": "stdout",
     "output_type": "stream",
     "text": [
      "lipak htraP"
     ]
    }
   ],
   "source": [
    "s = 'Parth kapil'\n",
    "def reverse_string(s):\n",
    "    if len(s) == 0:\n",
    "        return\n",
    "    \n",
    "    print(s[-1], end=\"\")\n",
    "    reverse_string(s[:-1])\n",
    "    \n",
    "reverse_string(s)"
   ]
  },
  {
   "cell_type": "code",
   "execution_count": 7,
   "id": "956fd2c8",
   "metadata": {},
   "outputs": [
    {
     "data": {
      "text/plain": [
       "'lipak htraP'"
      ]
     },
     "execution_count": 7,
     "metadata": {},
     "output_type": "execute_result"
    }
   ],
   "source": [
    "def rev_str(s):\n",
    "    if len(s) == 1:\n",
    "        return s\n",
    "    \n",
    "    return rev_str(s[1:]) + s[0] \n",
    "\n",
    "rev_str(s)"
   ]
  },
  {
   "cell_type": "markdown",
   "id": "856bd9d8",
   "metadata": {},
   "source": [
    "# Get Permutations"
   ]
  },
  {
   "cell_type": "code",
   "execution_count": 15,
   "id": "44693957",
   "metadata": {},
   "outputs": [
    {
     "data": {
      "text/plain": [
       "['abc', 'acb', 'bac', 'bca', 'cab', 'cba']"
      ]
     },
     "execution_count": 15,
     "metadata": {},
     "output_type": "execute_result"
    }
   ],
   "source": [
    "s = 'abc'\n",
    "def get_perm(s):\n",
    "    if len(s) == 1:\n",
    "        return [s]\n",
    "    \n",
    "    out = []\n",
    "    \n",
    "    for ind in range(len(s)):\n",
    "        for perm in get_perm(s[:ind] + s[ind+1:]):\n",
    "            out.append(s[ind] + perm)\n",
    "            \n",
    "    return out\n",
    "\n",
    "get_perm(s)\n",
    "    "
   ]
  },
  {
   "cell_type": "markdown",
   "id": "e1cf231c",
   "metadata": {},
   "source": [
    "# get Subsequence"
   ]
  },
  {
   "cell_type": "code",
   "execution_count": 16,
   "id": "de13bf97",
   "metadata": {},
   "outputs": [
    {
     "data": {
      "text/plain": [
       "['abc', 'bc', 'ac', 'c', 'ab', 'b', 'a', '']"
      ]
     },
     "execution_count": 16,
     "metadata": {},
     "output_type": "execute_result"
    }
   ],
   "source": [
    "def get_subSeq(s):\n",
    "    if len(s) == 0:\n",
    "        return [\"\"]\n",
    "    \n",
    "    out = []\n",
    "    \n",
    "    for seq in get_subSeq(s[1:]):\n",
    "        out.append(s[0] + seq)\n",
    "        out.append(seq)\n",
    "        \n",
    "    return out\n",
    "\n",
    "get_subSeq('abc')\n",
    "        "
   ]
  },
  {
   "cell_type": "markdown",
   "id": "9ae47a7b",
   "metadata": {},
   "source": [
    "# Coin Exchange "
   ]
  },
  {
   "cell_type": "code",
   "execution_count": 21,
   "id": "598e4364",
   "metadata": {},
   "outputs": [
    {
     "data": {
      "text/plain": [
       "[10, 10, 5, 1]"
      ]
     },
     "execution_count": 21,
     "metadata": {},
     "output_type": "execute_result"
    }
   ],
   "source": [
    "def get_coins(n, coins):\n",
    "    total = n\n",
    "    out = []\n",
    "    while total > 0 and len(coins) > 0:\n",
    "        max_coin = max(coins)\n",
    "        \n",
    "        if max_coin <= total:\n",
    "            total -= max_coin\n",
    "            out.append(max_coin)            \n",
    "        else:\n",
    "            coins.pop(coins.index(max_coin))\n",
    "            \n",
    "    if total>0 and len(coins) == 0:\n",
    "        return []\n",
    "    \n",
    "    return out\n",
    "\n",
    "get_coins(26, [1,5,10])"
   ]
  },
  {
   "cell_type": "code",
   "execution_count": null,
   "id": "21d8517f",
   "metadata": {},
   "outputs": [],
   "source": []
  },
  {
   "cell_type": "code",
   "execution_count": null,
   "id": "5ca436f1",
   "metadata": {},
   "outputs": [],
   "source": []
  }
 ],
 "metadata": {
  "kernelspec": {
   "display_name": "Python 3",
   "language": "python",
   "name": "python3"
  },
  "language_info": {
   "codemirror_mode": {
    "name": "ipython",
    "version": 3
   },
   "file_extension": ".py",
   "mimetype": "text/x-python",
   "name": "python",
   "nbconvert_exporter": "python",
   "pygments_lexer": "ipython3",
   "version": "3.8.8"
  }
 },
 "nbformat": 4,
 "nbformat_minor": 5
}
