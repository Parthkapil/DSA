{
 "cells": [
  {
   "cell_type": "code",
   "execution_count": 1,
   "id": "5d169f13",
   "metadata": {},
   "outputs": [],
   "source": [
    "import collections\n",
    "def levelOrder(tree):\n",
    "    if not tree:\n",
    "        return \n",
    "    \n",
    "    queue = collections.deque([tree])\n",
    "    curr_count, next_count = 1, 0\n",
    "    \n",
    "    while len(queue) > 0:\n",
    "        curr_node = queue.popleft()\n",
    "        curr_count -= 1\n",
    "        print(curr_node.val, end = \" \")\n",
    "        \n",
    "        if curr_node.left:\n",
    "            queue.append(curr_node.left)\n",
    "            next_node += 1\n",
    "            \n",
    "        if curr_node.right:\n",
    "            queue.append(curr_node.right)\n",
    "            next_node += 1\n",
    "            \n",
    "        if curr_count == 0:\n",
    "            print()\n",
    "            curr_count, next_count = next_count, curr_count\n",
    "            \n",
    "    \n",
    "            \n",
    "        \n",
    "    "
   ]
  },
  {
   "cell_type": "code",
   "execution_count": null,
   "id": "728e6a13",
   "metadata": {},
   "outputs": [],
   "source": []
  }
 ],
 "metadata": {
  "kernelspec": {
   "display_name": "Python 3",
   "language": "python",
   "name": "python3"
  },
  "language_info": {
   "codemirror_mode": {
    "name": "ipython",
    "version": 3
   },
   "file_extension": ".py",
   "mimetype": "text/x-python",
   "name": "python",
   "nbconvert_exporter": "python",
   "pygments_lexer": "ipython3",
   "version": "3.8.8"
  }
 },
 "nbformat": 4,
 "nbformat_minor": 5
}
