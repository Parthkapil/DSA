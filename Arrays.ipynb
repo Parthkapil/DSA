{
 "cells": [
  {
   "cell_type": "markdown",
   "id": "3b3a3340",
   "metadata": {},
   "source": [
    "# Check Anagram"
   ]
  },
  {
   "cell_type": "code",
   "execution_count": 8,
   "id": "91039dd7",
   "metadata": {},
   "outputs": [
    {
     "data": {
      "text/plain": [
       "False"
      ]
     },
     "execution_count": 8,
     "metadata": {},
     "output_type": "execute_result"
    }
   ],
   "source": [
    "def checkAnangram(s1, s2):\n",
    "    s1 = \"\".join(s1.lower().split(' '))\n",
    "    s2 = \"\".join(s2.lower().split(' '))\n",
    "\n",
    "    if len(s1) != len(s2):\n",
    "        return False\n",
    "    \n",
    "    chars = {}\n",
    "    \n",
    "    for char in s1:\n",
    "        if char not in chars:\n",
    "            chars[char] = 0\n",
    "        chars[char] += 1\n",
    "        \n",
    "    for char in s2:\n",
    "        if char not in chars:\n",
    "            return False\n",
    "        chars[char] -= 1\n",
    "        \n",
    "    for key, val in chars.items():\n",
    "        if val > 0:\n",
    "            return False\n",
    "        \n",
    "    return True\n",
    "\n",
    "s1 = \"public relations\"\n",
    "s2 = \"crap built on lies\"\n",
    "\n",
    "s1 = \"clint eastwood\"\n",
    "s2 = \"old west action\"\n",
    "\n",
    "s1 = \"parth kapil\"\n",
    "s2 = \"htrap lipakk\"\n",
    "checkAnangram(s1, s2)\n",
    "        "
   ]
  },
  {
   "cell_type": "markdown",
   "id": "a7580ad9",
   "metadata": {},
   "source": [
    "# Array Pair Sum"
   ]
  },
  {
   "cell_type": "code",
   "execution_count": 13,
   "id": "d9a9237e",
   "metadata": {},
   "outputs": [
    {
     "data": {
      "text/plain": [
       "[(2, 2), (3, 1)]"
      ]
     },
     "execution_count": 13,
     "metadata": {},
     "output_type": "execute_result"
    }
   ],
   "source": [
    "def getPairSum(lst, k):\n",
    "    output = []\n",
    "    seen = set()\n",
    "    \n",
    "    for num in lst:\n",
    "        looking_val = k - num\n",
    "        \n",
    "        if looking_val in seen:\n",
    "            output.append((num, looking_val))\n",
    "        else:\n",
    "            seen.add(num)\n",
    "            \n",
    "    return output\n",
    "\n",
    "lst = [1,2,2,3]\n",
    "k = 4\n",
    "getPairSum(lst, k)"
   ]
  },
  {
   "cell_type": "markdown",
   "id": "03709e76",
   "metadata": {},
   "source": [
    "# Find missing element"
   ]
  },
  {
   "cell_type": "code",
   "execution_count": 16,
   "id": "e9ff2197",
   "metadata": {},
   "outputs": [
    {
     "data": {
      "text/plain": [
       "4"
      ]
     },
     "execution_count": 16,
     "metadata": {},
     "output_type": "execute_result"
    }
   ],
   "source": [
    "def findMissing(lst1, lst2):\n",
    "    result = 0\n",
    "    for num in lst1 + lst2:\n",
    "        result ^= num\n",
    "        \n",
    "    return result\n",
    "\n",
    "lst1 = [1,2,3,4,5]\n",
    "lst2 = [1,2,3, 5]\n",
    "findMissing(lst1, lst2)"
   ]
  },
  {
   "cell_type": "markdown",
   "id": "19dcfc79",
   "metadata": {},
   "source": [
    "# Largest Continuous sum"
   ]
  },
  {
   "cell_type": "code",
   "execution_count": 19,
   "id": "980fe6cc",
   "metadata": {},
   "outputs": [
    {
     "data": {
      "text/plain": [
       "29"
      ]
     },
     "execution_count": 19,
     "metadata": {},
     "output_type": "execute_result"
    }
   ],
   "source": [
    "def getLongestSum(lst):\n",
    "    if len(lst) == 0:\n",
    "        return 0\n",
    "    \n",
    "    curr_sum= max_sum = lst[0]\n",
    "    \n",
    "    for num in lst[1:]:\n",
    "        curr_sum = max(curr_sum+num, num)\n",
    "        max_sum = max(curr_sum, max_sum)\n",
    "        \n",
    "    return max_sum\n",
    "\n",
    "lst = [1,2,-1,3,4,10,10,-10,-1]\n",
    "getLongestSum(lst)"
   ]
  },
  {
   "cell_type": "markdown",
   "id": "f2496dcb",
   "metadata": {},
   "source": [
    "# Senetence Reversal"
   ]
  },
  {
   "cell_type": "code",
   "execution_count": 21,
   "id": "7e20174a",
   "metadata": {},
   "outputs": [
    {
     "name": "stdout",
     "output_type": "stream",
     "text": [
      "lecture! great a is This "
     ]
    }
   ],
   "source": [
    "def reverseSentence(s):\n",
    "    words = s.split()\n",
    "    \n",
    "    for word in words[::-1]:\n",
    "        print(word, end = \" \")\n",
    "        \n",
    "s = \"This is a great lecture!\"\n",
    "reverseSentence(s)"
   ]
  },
  {
   "cell_type": "markdown",
   "id": "c9c3da7c",
   "metadata": {},
   "source": [
    "# String Compression"
   ]
  },
  {
   "cell_type": "code",
   "execution_count": 23,
   "id": "e8a20e22",
   "metadata": {},
   "outputs": [
    {
     "data": {
      "text/plain": [
       "'A2B3C2D3E2'"
      ]
     },
     "execution_count": 23,
     "metadata": {},
     "output_type": "execute_result"
    }
   ],
   "source": [
    "def getCompressesString(s):\n",
    "    if len(s) == 0:\n",
    "        return \"\"\n",
    "    if len(s) == 1:\n",
    "        return f\"{s}1\"\n",
    "    \n",
    "    cnt = 1\n",
    "    res = \"\"\n",
    "    len_s = len(s)\n",
    "    i = 1\n",
    "    \n",
    "    while i < len_s:\n",
    "        if s[i] == s[i-1]:\n",
    "            cnt+=1\n",
    "        else:\n",
    "            res += f\"{s[i-1]}{cnt}\"\n",
    "            cnt = 1\n",
    "        i += 1\n",
    "        \n",
    "    res += f\"{s[i-1]}{cnt}\"\n",
    "    return res\n",
    "\n",
    "s = \"AABBBCCDDDEE\"\n",
    "getCompressesString(s)"
   ]
  },
  {
   "cell_type": "code",
   "execution_count": null,
   "id": "1fae9c87",
   "metadata": {},
   "outputs": [],
   "source": []
  }
 ],
 "metadata": {
  "kernelspec": {
   "display_name": "Python 3",
   "language": "python",
   "name": "python3"
  },
  "language_info": {
   "codemirror_mode": {
    "name": "ipython",
    "version": 3
   },
   "file_extension": ".py",
   "mimetype": "text/x-python",
   "name": "python",
   "nbconvert_exporter": "python",
   "pygments_lexer": "ipython3",
   "version": "3.8.8"
  }
 },
 "nbformat": 4,
 "nbformat_minor": 5
}
