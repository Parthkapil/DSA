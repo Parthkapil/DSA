{
 "cells": [
  {
   "cell_type": "markdown",
   "id": "2ba9e508",
   "metadata": {},
   "source": [
    "# Balance paranthesis"
   ]
  },
  {
   "cell_type": "code",
   "execution_count": 6,
   "id": "5b23f6b4",
   "metadata": {},
   "outputs": [
    {
     "data": {
      "text/plain": [
       "False"
      ]
     },
     "execution_count": 6,
     "metadata": {},
     "output_type": "execute_result"
    }
   ],
   "source": [
    "def checkBalanceParan(parans):\n",
    "    if len(parans) == 1:\n",
    "        return False\n",
    "    \n",
    "    \n",
    "    open_brac = set(['(', '{', '['])\n",
    "    \n",
    "    if parans[0] not in open_brac:\n",
    "        return False\n",
    "    \n",
    "    valid_brac_sets = set([('(',')'), ('[', ']'), ('{', '}')])\n",
    "    \n",
    "    stack = []\n",
    "    \n",
    "    for brac in parans:\n",
    "        if brac in open_brac:\n",
    "            stack.append(brac)\n",
    "        else:\n",
    "            op = stack.pop()\n",
    "            \n",
    "            if (op, brac) not in valid_brac_sets:\n",
    "                return False\n",
    "    if len(stack) > 0:\n",
    "        return False\n",
    "    return True\n",
    "\n",
    "checkBalanceParan(\"{([])\")\n",
    "                "
   ]
  },
  {
   "cell_type": "code",
   "execution_count": 8,
   "id": "a59c6337",
   "metadata": {},
   "outputs": [
    {
     "data": {
      "text/plain": [
       "{1}"
      ]
     },
     "execution_count": 8,
     "metadata": {},
     "output_type": "execute_result"
    }
   ],
   "source": []
  },
  {
   "cell_type": "code",
   "execution_count": 15,
   "id": "b5725fc5",
   "metadata": {},
   "outputs": [
    {
     "data": {
      "text/plain": [
       "5"
      ]
     },
     "execution_count": 15,
     "metadata": {},
     "output_type": "execute_result"
    }
   ],
   "source": [
    "def getMaxCommonHeight(l1, l2, l3):\n",
    "    if len(l1) == 0 and len(l2) == 0 and len(l3) == 0:\n",
    "        return 0\n",
    "    \n",
    "    stacks = [l1,l2,l3]\n",
    "    \n",
    "    heights = list(map(sum, stacks))\n",
    "    \n",
    "    while len(set(heights)) > 1:\n",
    "        max_list_ind = heights.index(max(heights))\n",
    "        heights[max_list_ind] -= stacks[max_list_ind].pop()\n",
    "\n",
    "    return heights[0]\n",
    "\n",
    "getMaxCommonHeight([1,1,1,2,3], [2,3,4], [1,4,1, 1])"
   ]
  },
  {
   "cell_type": "code",
   "execution_count": null,
   "id": "7118ca7d",
   "metadata": {},
   "outputs": [],
   "source": []
  },
  {
   "cell_type": "markdown",
   "id": "59191b29",
   "metadata": {},
   "source": [
    "# Largest Building Area"
   ]
  },
  {
   "cell_type": "code",
   "execution_count": 22,
   "id": "5cdc28a0",
   "metadata": {},
   "outputs": [
    {
     "data": {
      "text/plain": [
       "12"
      ]
     },
     "execution_count": 22,
     "metadata": {},
     "output_type": "execute_result"
    }
   ],
   "source": [
    "def largestRectangle(lst):\n",
    "    i = 0\n",
    "    stack = []\n",
    "    max_area = -1\n",
    "    area = 0\n",
    "    while i < len(lst):\n",
    "        if stack == [] or lst[i] > lst[stack[-1]]:\n",
    "            stack.append(i)\n",
    "            i+= 1\n",
    "        else:\n",
    "            popped = stack.pop()\n",
    "            \n",
    "            if stack == []:\n",
    "                area = lst[popped] * i\n",
    "            else:\n",
    "                area = lst[popped] * ((i - stack[-1] - 1) if stack else i)\n",
    "            \n",
    "            if max_area < area:\n",
    "                max_area = area\n",
    "                \n",
    "    while len(stack) > 0:\n",
    "        popped = stack.pop()\n",
    "        \n",
    "        if stack == []:\n",
    "            area = lst[popped] * i\n",
    "        else:\n",
    "            area = lst[popped] * ((i - stack[-1] - 1) if stack else i)\n",
    "            \n",
    "        if max_area < area:\n",
    "            max_area = area\n",
    "            \n",
    "    return max_area\n",
    "\n",
    "largestRectangle([6, 2, 5, 4, 5, 1, 6])"
   ]
  },
  {
   "cell_type": "code",
   "execution_count": null,
   "id": "9c23919d",
   "metadata": {},
   "outputs": [],
   "source": []
  }
 ],
 "metadata": {
  "kernelspec": {
   "display_name": "Python 3",
   "language": "python",
   "name": "python3"
  },
  "language_info": {
   "codemirror_mode": {
    "name": "ipython",
    "version": 3
   },
   "file_extension": ".py",
   "mimetype": "text/x-python",
   "name": "python",
   "nbconvert_exporter": "python",
   "pygments_lexer": "ipython3",
   "version": "3.8.8"
  }
 },
 "nbformat": 4,
 "nbformat_minor": 5
}
