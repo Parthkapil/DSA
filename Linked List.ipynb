{
 "cells": [
  {
   "cell_type": "markdown",
   "id": "a452cb3a",
   "metadata": {},
   "source": [
    "# Cycle check"
   ]
  },
  {
   "cell_type": "code",
   "execution_count": null,
   "id": "e354b084",
   "metadata": {},
   "outputs": [],
   "source": [
    "def cehckCycle(head):\n",
    "    if not head:\n",
    "        return False\n",
    "    \n",
    "    slow = head\n",
    "    fast = head.next.next\n",
    "    \n",
    "    while slow and fast:\n",
    "        if slow == fast:\n",
    "            return True\n",
    "        \n",
    "        slow = slow.next\n",
    "        fast = fast.next\n",
    "        \n",
    "    return False"
   ]
  }
 ],
 "metadata": {
  "kernelspec": {
   "display_name": "Python 3",
   "language": "python",
   "name": "python3"
  },
  "language_info": {
   "codemirror_mode": {
    "name": "ipython",
    "version": 3
   },
   "file_extension": ".py",
   "mimetype": "text/x-python",
   "name": "python",
   "nbconvert_exporter": "python",
   "pygments_lexer": "ipython3",
   "version": "3.8.8"
  }
 },
 "nbformat": 4,
 "nbformat_minor": 5
}
